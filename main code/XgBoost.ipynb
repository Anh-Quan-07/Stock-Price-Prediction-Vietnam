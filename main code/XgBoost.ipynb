{
  "nbformat": 4,
  "nbformat_minor": 0,
  "metadata": {
    "colab": {
      "provenance": []
    },
    "kernelspec": {
      "name": "python3",
      "display_name": "Python 3"
    },
    "language_info": {
      "name": "python"
    }
  },
  "cells": [
    {
      "cell_type": "code",
      "source": [
        "pip install --upgrade xgboost"
      ],
      "metadata": {
        "colab": {
          "base_uri": "https://localhost:8080/"
        },
        "id": "yUh6xkY2pJ2B",
        "outputId": "cea4f007-7d8a-4dbe-906d-f3f036b1d617"
      },
      "execution_count": null,
      "outputs": [
        {
          "output_type": "stream",
          "name": "stdout",
          "text": [
            "Requirement already satisfied: xgboost in /usr/local/lib/python3.10/dist-packages (2.1.3)\n",
            "Requirement already satisfied: numpy in /usr/local/lib/python3.10/dist-packages (from xgboost) (1.26.4)\n",
            "Requirement already satisfied: nvidia-nccl-cu12 in /usr/local/lib/python3.10/dist-packages (from xgboost) (2.23.4)\n",
            "Requirement already satisfied: scipy in /usr/local/lib/python3.10/dist-packages (from xgboost) (1.13.1)\n"
          ]
        }
      ]
    },
    {
      "cell_type": "code",
      "source": [
        "import xgboost as xgb\n",
        "print(xgb.__version__)"
      ],
      "metadata": {
        "colab": {
          "base_uri": "https://localhost:8080/"
        },
        "id": "xU8zcB28pMYn",
        "outputId": "a9cca510-87b4-4659-81ea-cc088b6e2b68"
      },
      "execution_count": null,
      "outputs": [
        {
          "output_type": "stream",
          "name": "stdout",
          "text": [
            "2.1.3\n"
          ]
        }
      ]
    },
    {
      "cell_type": "code",
      "source": [
        "# Import thư viện\n",
        "import pandas as pd\n",
        "import numpy as np\n",
        "import matplotlib.pyplot as plt\n",
        "from sklearn.preprocessing import MinMaxScaler\n",
        "from sklearn.model_selection import KFold\n",
        "from xgboost import XGBRegressor\n",
        "from sklearn.metrics import mean_absolute_error, mean_squared_error, r2_score\n",
        "from keras.callbacks import ModelCheckpoint, EarlyStopping"
      ],
      "metadata": {
        "id": "FRYG0OaAndJI"
      },
      "execution_count": null,
      "outputs": []
    },
    {
      "cell_type": "code",
      "source": [
        "from google.colab import drive\n",
        "drive.mount('/content/gdrive')"
      ],
      "metadata": {
        "colab": {
          "base_uri": "https://localhost:8080/"
        },
        "id": "rvVe47nIOuVX",
        "outputId": "b86e0a61-a5d1-4c7d-b00b-22d611dc1304"
      },
      "execution_count": null,
      "outputs": [
        {
          "output_type": "stream",
          "name": "stdout",
          "text": [
            "Mounted at /content/gdrive\n"
          ]
        }
      ]
    },
    {
      "cell_type": "code",
      "source": [
        "# Tải dữ liệu từ Google Drive\n",
        "from google.colab import drive\n",
        "drive.mount('/content/gdrive')\n",
        "df = pd.read_csv('/content/gdrive/MyDrive/Khóa luân 2024 (Nguyễn Tiến Anh QUân)/Dữ liệu/HCM.csv')\n",
        "# Chuyển đổi cột \"Ngày\" sang dạng datetime\n",
        "df['Date'] = pd.to_datetime(df['Date'], format='%d/%m/%Y')\n",
        "\n",
        "# Sắp xếp dữ liệu theo thứ tự thời gian\n",
        "df = df.sort_values(by='Date')\n",
        "\n",
        "# Chuyển đổi định dạng các cột giá thành số thực\n",
        "df['Closing Price'] = df['Closing Price'].replace(',', '').astype(float)\n",
        "df['Opening Price'] = df['Opening Price'].replace(',', '').astype(float)\n",
        "df['Highest Price'] = df['Highest Price'].replace(',', '').astype(float)\n",
        "df['Lowest Price'] = df['Lowest Price'].replace(',', '').astype(float)"
      ],
      "metadata": {
        "colab": {
          "base_uri": "https://localhost:8080/"
        },
        "id": "5qqoYZakneGL",
        "outputId": "8e0c5f91-98bf-4b77-e5c7-1de2d810c924"
      },
      "execution_count": null,
      "outputs": [
        {
          "output_type": "stream",
          "name": "stdout",
          "text": [
            "Drive already mounted at /content/gdrive; to attempt to forcibly remount, call drive.mount(\"/content/gdrive\", force_remount=True).\n"
          ]
        }
      ]
    },
    {
      "cell_type": "code",
      "source": [
        "# Tạo dataframe đơn giản chỉ chứa \"Date\" và \"Closing Price\"\n",
        "df11 = pd.DataFrame(df, columns=['Date', 'Closing Price'])\n",
        "df11.index = df11.Date\n",
        "df11.drop('Date', axis=1, inplace=True)\n",
        "\n",
        "# Chuyển dữ liệu thành dạng mảng numpy\n",
        "data = df11.values"
      ],
      "metadata": {
        "id": "l0mHuX_sneEI"
      },
      "execution_count": null,
      "outputs": []
    },
    {
      "cell_type": "code",
      "source": [
        "# Chuẩn hóa dữ liệu\n",
        "sc = MinMaxScaler(feature_range=(0, 1))\n",
        "sc_train = sc.fit_transform(data)"
      ],
      "metadata": {
        "id": "O0aEi6fmneCw"
      },
      "execution_count": null,
      "outputs": []
    },
    {
      "cell_type": "code",
      "source": [
        "# Tạo dữ liệu đầu vào và đầu ra cho mô hình\n",
        "x_train, y_train = [], []\n",
        "window_size = 50\n",
        "for i in range(window_size, len(data)):\n",
        "    x_train.append(sc_train[i-window_size:i, 0])\n",
        "    y_train.append(sc_train[i, 0])\n",
        "\n",
        "x_train = np.array(x_train)\n",
        "y_train = np.array(y_train)"
      ],
      "metadata": {
        "id": "S869y3pUneB2"
      },
      "execution_count": null,
      "outputs": []
    },
    {
      "cell_type": "code",
      "source": [
        "# K-Fold Cross Validation\n",
        "kfold = KFold(n_splits=5, shuffle=True, random_state=42)\n",
        "best_model_file = \"/content/gdrive/MyDrive/Khóa luân 2024 (Nguyễn Tiến Anh QUân)/allsavemodel/savemodelxgboost/xgboost_model_kfold.keras\"\n",
        "\n",
        "fold = 1\n",
        "mae_scores, mse_scores, r2_scores = [], [], []\n",
        "best_mae = float(\"inf\")\n",
        "best_model = None\n",
        "\n",
        "for train_index, val_index in kfold.split(x_train):\n",
        "    print(f\"\\n=== Huấn luyện Fold {fold} ===\")\n",
        "\n",
        "    # Chia dữ liệu thành tập train và validation\n",
        "    x_train_fold, x_val_fold = x_train[train_index], x_train[val_index]\n",
        "    y_train_fold, y_val_fold = y_train[train_index], y_train[val_index]\n",
        "\n",
        "    # Chuyển dữ liệu thành DMatrix\n",
        "    dtrain = xgb.DMatrix(x_train_fold, label=y_train_fold)\n",
        "    dval = xgb.DMatrix(x_val_fold, label=y_val_fold)\n",
        "\n",
        "    # Thiết lập tham số\n",
        "    params = {\n",
        "        \"objective\": \"reg:squarederror\",\n",
        "        \"learning_rate\": 0.01,\n",
        "        \"max_depth\": 5,\n",
        "        \"seed\": 42\n",
        "    }\n",
        "\n",
        "    # Huấn luyện với early stopping\n",
        "    bst = xgb.train(\n",
        "        params,\n",
        "        dtrain,\n",
        "        num_boost_round=1000,\n",
        "        evals=[(dval, \"validation\")],\n",
        "        early_stopping_rounds=50,\n",
        "        verbose_eval=False\n",
        "    )\n",
        "\n",
        "    # Dự đoán trên tập validation\n",
        "    y_val_predict = bst.predict(dval)\n",
        "    y_val_predict = sc.inverse_transform(y_val_predict.reshape(-1, 1))\n",
        "    y_val_actual = sc.inverse_transform(y_val_fold.reshape(-1, 1))\n",
        "\n",
        "    # Đánh giá mô hình\n",
        "    mae = mean_absolute_error(y_val_actual, y_val_predict)\n",
        "    mse = mean_squared_error(y_val_actual, y_val_predict)\n",
        "    r2 = r2_score(y_val_actual, y_val_predict)\n",
        "\n",
        "    mae_scores.append(mae)\n",
        "    mse_scores.append(mse)\n",
        "    r2_scores.append(r2)\n",
        "\n",
        "    print(f\"Fold {fold} - MAE: {mae:.4f}, MSE: {mse:.4f}, R²: {r2:.4f}\")\n",
        "    # Lưu mô hình tốt nhất dựa trên MAE\n",
        "    if mae < best_mae:\n",
        "        best_mae = mae\n",
        "        best_model = bst\n",
        "        bst.save_model(best_model_file)\n",
        "        print(f\"Mô hình tốt nhất được lưu vào: {best_model_file}\")\n",
        "\n",
        "    fold += 1\n"
      ],
      "metadata": {
        "colab": {
          "base_uri": "https://localhost:8080/"
        },
        "id": "PcZOSVN8nd0n",
        "outputId": "6f6f3f56-e846-4d6b-c9f4-e8e3b2601d5d"
      },
      "execution_count": null,
      "outputs": [
        {
          "output_type": "stream",
          "name": "stdout",
          "text": [
            "\n",
            "=== Huấn luyện Fold 1 ===\n",
            "Fold 1 - MAE: 0.7481, MSE: 1.2226, R²: 0.9926\n"
          ]
        },
        {
          "output_type": "stream",
          "name": "stderr",
          "text": [
            "/usr/local/lib/python3.10/dist-packages/xgboost/core.py:158: UserWarning: [06:40:09] WARNING: /workspace/src/c_api/c_api.cc:1374: Saving model in the UBJSON format as default.  You can use file extension: `json`, `ubj` or `deprecated` to choose between formats.\n",
            "  warnings.warn(smsg, UserWarning)\n"
          ]
        },
        {
          "output_type": "stream",
          "name": "stdout",
          "text": [
            "Mô hình tốt nhất được lưu vào: /content/gdrive/MyDrive/Khóa luân 2024 (Nguyễn Tiến Anh QUân)/allsavemodel/savemodelxgboost/xgboost_model_kfold.keras\n",
            "\n",
            "=== Huấn luyện Fold 2 ===\n",
            "Fold 2 - MAE: 0.6778, MSE: 0.9786, R²: 0.9943\n",
            "Mô hình tốt nhất được lưu vào: /content/gdrive/MyDrive/Khóa luân 2024 (Nguyễn Tiến Anh QUân)/allsavemodel/savemodelxgboost/xgboost_model_kfold.keras\n",
            "\n",
            "=== Huấn luyện Fold 3 ===\n"
          ]
        },
        {
          "output_type": "stream",
          "name": "stderr",
          "text": [
            "/usr/local/lib/python3.10/dist-packages/xgboost/core.py:158: UserWarning: [06:40:19] WARNING: /workspace/src/c_api/c_api.cc:1374: Saving model in the UBJSON format as default.  You can use file extension: `json`, `ubj` or `deprecated` to choose between formats.\n",
            "  warnings.warn(smsg, UserWarning)\n"
          ]
        },
        {
          "output_type": "stream",
          "name": "stdout",
          "text": [
            "Fold 3 - MAE: 0.8830, MSE: 2.7918, R²: 0.9857\n",
            "\n",
            "=== Huấn luyện Fold 4 ===\n",
            "Fold 4 - MAE: 0.7719, MSE: 1.4485, R²: 0.9917\n",
            "\n",
            "=== Huấn luyện Fold 5 ===\n",
            "Fold 5 - MAE: 0.7543, MSE: 1.4609, R²: 0.9903\n"
          ]
        }
      ]
    },
    {
      "cell_type": "code",
      "source": [
        "# Kết quả trung bình của các fold\n",
        "print(\"\\n=== Kết quả trung bình qua các fold ===\")\n",
        "print(f\"MAE trung bình: {np.mean(mae_scores):.4f}\")\n",
        "print(f\"MSE trung bình: {np.mean(mse_scores):.4f}\")\n",
        "print(f\"R² trung bình: {np.mean(r2_scores):.4f}\")\n"
      ],
      "metadata": {
        "colab": {
          "base_uri": "https://localhost:8080/"
        },
        "id": "hlugo3MBndyU",
        "outputId": "e7e693d0-8a62-4d8b-e67c-232a9fdbc669"
      },
      "execution_count": null,
      "outputs": [
        {
          "output_type": "stream",
          "name": "stdout",
          "text": [
            "\n",
            "=== Kết quả trung bình qua các fold ===\n",
            "MAE trung bình: 0.7670\n",
            "MSE trung bình: 1.5805\n",
            "R² trung bình: 0.9909\n"
          ]
        }
      ]
    },
    {
      "cell_type": "code",
      "source": [
        "# Tải lại mô hình tốt nhất\n",
        "bst = xgb.Booster()\n",
        "bst.load_model(best_model_file)\n",
        "print(f\"\\nTải mô hình tốt nhất từ file: {best_model_file}\")\n",
        "\n",
        "# Dự đoán cho 5 ngày tiếp theo\n",
        "next_date = df['Date'].iloc[-1]\n",
        "predictions = []\n",
        "dates = []\n",
        "\n",
        "for i in range(5):\n",
        "    # Lấy 50 giá trị gần nhất\n",
        "    x_next = sc_train[-window_size:, 0].reshape(1, -1)\n",
        "    dnext = xgb.DMatrix(x_next)\n",
        "    y_next_predict = bst.predict(dnext)\n",
        "    y_next_predict = sc.inverse_transform(y_next_predict.reshape(-1, 1))\n",
        "    predictions.append(y_next_predict[0][0])\n",
        "\n",
        "    # Thêm giá trị dự đoán vào dữ liệu\n",
        "    sc_train = np.append(sc_train, sc.transform(y_next_predict), axis=0)\n",
        "\n",
        "    # Tăng ngày\n",
        "    next_date = next_date + pd.Timedelta(days=1)\n",
        "    dates.append(next_date)\n",
        "\n",
        "# Tạo DataFrame dự đoán\n",
        "df_next = pd.DataFrame({'Date': dates, 'Closing Price': predictions})\n",
        "df1 = pd.concat([df11, df_next])\n",
        "\n",
        "# Vẽ biểu đồ\n",
        "plt.figure(figsize=(15, 5))\n",
        "plt.plot(df['Date'], df['Closing Price'], label='Giá thực tế', color='red')\n",
        "plt.scatter(dates, predictions, color='orange', label='Dự đoán ngày kế tiếp')\n",
        "plt.xlabel('Thời gian')\n",
        "plt.ylabel('Giá đóng cửa (VNĐ)')\n",
        "plt.title('Dự đoán giá đóng cửa cho 5 ngày tiếp theo')\n",
        "plt.legend()\n",
        "plt.show()\n",
        "\n",
        "# In bảng so sánh\n",
        "comparison_df = pd.DataFrame({'Date': dates, 'Predict Price': predictions})\n",
        "print(\"\\nDự đoán giá cho 5 ngày tiếp theo:\")\n",
        "print(comparison_df)"
      ],
      "metadata": {
        "colab": {
          "base_uri": "https://localhost:8080/",
          "height": 637
        },
        "id": "gSJrNLN2nduy",
        "outputId": "15aa73f9-7928-4f25-b997-463c643013d1"
      },
      "execution_count": null,
      "outputs": [
        {
          "output_type": "stream",
          "name": "stdout",
          "text": [
            "\n",
            "Tải mô hình tốt nhất từ file: /content/gdrive/MyDrive/Khóa luân 2024 (Nguyễn Tiến Anh QUân)/allsavemodel/savemodelxgboost/xgboost_model_kfold.keras\n"
          ]
        },
        {
          "output_type": "display_data",
          "data": {
            "text/plain": [
              "<Figure size 1500x500 with 1 Axes>"
            ],
            "image/png": "[encoded data removed]"
          },
          "metadata": {}
        },
        {
          "output_type": "stream",
          "name": "stdout",
          "text": [
            "\n",
            "Dự đoán giá cho 5 ngày tiếp theo:\n",
            "        Date  Predict Price\n",
            "0 2024-09-11      28.960358\n",
            "1 2024-09-12      29.018164\n",
            "2 2024-09-13      29.227278\n",
            "3 2024-09-14      29.367619\n",
            "4 2024-09-15      29.374680\n"
          ]
        }
      ]
    },
    {
      "cell_type": "code",
      "source": [],
      "metadata": {
        "id": "8jJEcmG3ndrq"
      },
      "execution_count": null,
      "outputs": []
    },
    {
      "cell_type": "code",
      "source": [],
      "metadata": {
        "id": "A3vKVKYXndqV"
      },
      "execution_count": null,
      "outputs": []
    },
    {
      "cell_type": "code",
      "source": [],
      "metadata": {
        "id": "3UpVUI35ndo0"
      },
      "execution_count": null,
      "outputs": []
    },
    {
      "cell_type": "code",
      "source": [],
      "metadata": {
        "id": "gc_iAWZXndnp"
      },
      "execution_count": null,
      "outputs": []
    },
    {
      "cell_type": "code",
      "source": [],
      "metadata": {
        "id": "2bJN445ZndmQ"
      },
      "execution_count": null,
      "outputs": []
    },
    {
      "cell_type": "code",
      "source": [],
      "metadata": {
        "id": "9r4GzSFBndkn"
      },
      "execution_count": null,
      "outputs": []
    },
    {
      "cell_type": "code",
      "source": [],
      "metadata": {
        "id": "EgMdif4BQKD_"
      },
      "execution_count": null,
      "outputs": []
    }
  ]
}